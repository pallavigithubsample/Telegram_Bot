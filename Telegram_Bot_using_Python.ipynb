{
  "nbformat": 4,
  "nbformat_minor": 0,
  "metadata": {
    "colab": {
      "name": "Telegram_Bot_using_Python.ipynb",
      "provenance": [],
      "collapsed_sections": []
    },
    "kernelspec": {
      "name": "python3",
      "display_name": "Python 3"
    },
    "language_info": {
      "name": "python"
    }
  },
  "cells": [
    {
      "cell_type": "code",
      "execution_count": 4,
      "metadata": {
        "colab": {
          "base_uri": "https://localhost:8080/"
        },
        "id": "JubOnOvOWIyo",
        "outputId": "bfb027bb-9f88-43b6-d3cb-2821b11a863c"
      },
      "outputs": [
        {
          "output_type": "stream",
          "name": "stdout",
          "text": [
            "Requirement already satisfied: python-telegram-bot in /usr/local/lib/python3.7/dist-packages (13.11)\n",
            "Requirement already satisfied: APScheduler==3.6.3 in /usr/local/lib/python3.7/dist-packages (from python-telegram-bot) (3.6.3)\n",
            "Requirement already satisfied: cachetools==4.2.2 in /usr/local/lib/python3.7/dist-packages (from python-telegram-bot) (4.2.2)\n",
            "Requirement already satisfied: pytz>=2018.6 in /usr/local/lib/python3.7/dist-packages (from python-telegram-bot) (2022.1)\n",
            "Requirement already satisfied: tornado>=6.1 in /usr/local/lib/python3.7/dist-packages (from python-telegram-bot) (6.1)\n",
            "Requirement already satisfied: certifi in /usr/local/lib/python3.7/dist-packages (from python-telegram-bot) (2021.10.8)\n",
            "Requirement already satisfied: six>=1.4.0 in /usr/local/lib/python3.7/dist-packages (from APScheduler==3.6.3->python-telegram-bot) (1.15.0)\n",
            "Requirement already satisfied: setuptools>=0.7 in /usr/local/lib/python3.7/dist-packages (from APScheduler==3.6.3->python-telegram-bot) (57.4.0)\n",
            "Requirement already satisfied: tzlocal>=1.2 in /usr/local/lib/python3.7/dist-packages (from APScheduler==3.6.3->python-telegram-bot) (1.5.1)\n"
          ]
        }
      ],
      "source": [
        "pip install python-telegram-bot"
      ]
    },
    {
      "cell_type": "code",
      "source": [
        "from telegram.ext.updater import Updater\n",
        "from telegram.update import Update\n",
        "from telegram.ext.callbackcontext import CallbackContext\n",
        "from telegram.ext.commandhandler import CommandHandler\n",
        "from telegram.ext.messagehandler import MessageHandler\n",
        "from telegram.ext.filters import Filters\n"
      ],
      "metadata": {
        "id": "Z9rZZdMcWO5f"
      },
      "execution_count": 5,
      "outputs": []
    },
    {
      "cell_type": "code",
      "source": [
        "updater = Updater(\"5330668779:AAG38lvDUCctQ9f2GRut-9ww9hhz6p1gAT0\",\n",
        "\t\t\t\tuse_context=True)\n",
        "\n",
        "\n",
        "def start(update: Update, context: CallbackContext):\n",
        "\tupdate.message.reply_text(\n",
        "\t\t\"Hello Memeber Welcome to Vihar_Bot, i am glad to help you Please select /help commands/\")\n",
        "\n",
        "def help(update: Update, context: CallbackContext):\n",
        "\tupdate.message.reply_text(\"\"\"Available Commands :-\n",
        "\t/DataSciencetistJobs in Naukri - To get the list\n",
        "\t/DataScienctistJobs in  Glassdoor- To get the list from Glassdoor\n",
        "\t/DataScienctistJobs in  LinkedInd- - To get list from LinkedIn URL\n",
        "\t/gmail - To get connected to gmail\"\"\")\n",
        "\n",
        "\n",
        "def gmail_url(update: Update, context: CallbackContext):\n",
        "\tupdate.message.reply_text(\n",
        "\t\t\"Your gmail link here (I am not\\\n",
        "\t\tgiving mine one for security reasons)\")\n",
        "\n",
        "\n",
        "def Naukri_url(update: Update, context: CallbackContext):\n",
        "\tupdate.message.reply_text(\"Naukri_URL =>\\\n",
        "\thttps://www.naukri.com/data-scientist-jobs-in-india/\")\n",
        "\n",
        "\n",
        "def linkedIn_url(update: Update, context: CallbackContext):\n",
        "\tupdate.message.reply_text(\n",
        "\t\t\"LinkedIn URL => \\\n",
        "\t\thttps://www.linkedin.com/jobs/search/?keywords=data%20scientist/\")\n",
        "\n",
        "\n",
        "def Glassdoor_url(update: Update, context: CallbackContext):\n",
        "\tupdate.message.reply_text(\n",
        "\t\t\"GLassdoor URL => \\https://www.glassdoor.co.in/Job/india-data-scientist-jobs-SRCH_IL.0,5_IN115_KO6,20.htm/\")\n",
        "\n",
        "\n",
        "def unknown(update: Update, context: CallbackContext):\n",
        "\tupdate.message.reply_text(\n",
        "\t\t\"Sorry '%s' is not a valid command\" % update.message.text)\n",
        "\n",
        "\n",
        "def unknown_text(update: Update, context: CallbackContext):\n",
        "\tupdate.message.reply_text(\n",
        "\t\t\"Sorry I can't recognize you , you said '%s'\" % update.message.text)\n",
        "\n",
        "\n",
        "updater.dispatcher.add_handler(CommandHandler('start', start))\n",
        "updater.dispatcher.add_handler(CommandHandler('help', help))\n",
        "updater.dispatcher.add_handler(CommandHandler('Naukri', Naukri_url))\n",
        "updater.dispatcher.add_handler(CommandHandler('linkedin', linkedIn_url))\n",
        "updater.dispatcher.add_handler(CommandHandler('Glassdoor', Glassdoor_url))\n",
        "updater.dispatcher.add_handler(CommandHandler('gmail', gmail_url))\n",
        "updater.dispatcher.add_handler(MessageHandler(Filters.text, unknown))\n",
        "updater.dispatcher.add_handler(MessageHandler(\n",
        "\tFilters.command, unknown)) # Filters out unknown commands\n",
        "\n",
        "# Filters out unknown messages.\n",
        "updater.dispatcher.add_handler(MessageHandler(Filters.text, unknown_text))\n",
        "\n",
        "updater.start_polling()"
      ],
      "metadata": {
        "colab": {
          "base_uri": "https://localhost:8080/"
        },
        "id": "jZQOba_lW6QS",
        "outputId": "053ed4d5-aeef-4866-e1dd-797c601b3054"
      },
      "execution_count": 6,
      "outputs": [
        {
          "output_type": "execute_result",
          "data": {
            "text/plain": [
              "<queue.Queue at 0x7f2b23c0dad0>"
            ]
          },
          "metadata": {},
          "execution_count": 6
        }
      ]
    },
    {
      "cell_type": "code",
      "source": [
        ""
      ],
      "metadata": {
        "id": "OOsJymr2OjN3"
      },
      "execution_count": null,
      "outputs": []
    },
    {
      "cell_type": "code",
      "source": [
        ""
      ],
      "metadata": {
        "id": "TlSjWSQ1cOn4"
      },
      "execution_count": null,
      "outputs": []
    }
  ]
}