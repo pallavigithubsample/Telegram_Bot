{
  "nbformat": 4,
  "nbformat_minor": 0,
  "metadata": {
    "colab": {
      "name": "Telegram_Bot_using_Python_Final.ipynb",
      "provenance": [],
      "collapsed_sections": []
    },
    "kernelspec": {
      "name": "python3",
      "display_name": "Python 3"
    },
    "language_info": {
      "name": "python"
    }
  },
  "cells": [
    {
      "cell_type": "code",
      "execution_count": 1,
      "metadata": {
        "colab": {
          "base_uri": "https://localhost:8080/",
          "height": 679
        },
        "id": "JubOnOvOWIyo",
        "outputId": "c4c247cd-88a6-41ae-89cc-3b5a3b31120c"
      },
      "outputs": [
        {
          "output_type": "stream",
          "name": "stdout",
          "text": [
            "Collecting python-telegram-bot\n",
            "  Downloading python_telegram_bot-13.11-py3-none-any.whl (497 kB)\n",
            "\u001b[K     |████████████████████████████████| 497 kB 5.3 MB/s \n",
            "\u001b[?25hCollecting tornado>=6.1\n",
            "  Downloading tornado-6.1-cp37-cp37m-manylinux2010_x86_64.whl (428 kB)\n",
            "\u001b[K     |████████████████████████████████| 428 kB 35.6 MB/s \n",
            "\u001b[?25hCollecting APScheduler==3.6.3\n",
            "  Downloading APScheduler-3.6.3-py2.py3-none-any.whl (58 kB)\n",
            "\u001b[K     |████████████████████████████████| 58 kB 6.9 MB/s \n",
            "\u001b[?25hRequirement already satisfied: pytz>=2018.6 in /usr/local/lib/python3.7/dist-packages (from python-telegram-bot) (2022.1)\n",
            "Requirement already satisfied: certifi in /usr/local/lib/python3.7/dist-packages (from python-telegram-bot) (2021.10.8)\n",
            "Collecting cachetools==4.2.2\n",
            "  Downloading cachetools-4.2.2-py3-none-any.whl (11 kB)\n",
            "Requirement already satisfied: tzlocal>=1.2 in /usr/local/lib/python3.7/dist-packages (from APScheduler==3.6.3->python-telegram-bot) (1.5.1)\n",
            "Requirement already satisfied: setuptools>=0.7 in /usr/local/lib/python3.7/dist-packages (from APScheduler==3.6.3->python-telegram-bot) (57.4.0)\n",
            "Requirement already satisfied: six>=1.4.0 in /usr/local/lib/python3.7/dist-packages (from APScheduler==3.6.3->python-telegram-bot) (1.15.0)\n",
            "Installing collected packages: tornado, cachetools, APScheduler, python-telegram-bot\n",
            "  Attempting uninstall: tornado\n",
            "    Found existing installation: tornado 5.1.1\n",
            "    Uninstalling tornado-5.1.1:\n",
            "      Successfully uninstalled tornado-5.1.1\n",
            "  Attempting uninstall: cachetools\n",
            "    Found existing installation: cachetools 4.2.4\n",
            "    Uninstalling cachetools-4.2.4:\n",
            "      Successfully uninstalled cachetools-4.2.4\n",
            "\u001b[31mERROR: pip's dependency resolver does not currently take into account all the packages that are installed. This behaviour is the source of the following dependency conflicts.\n",
            "google-colab 1.0.0 requires tornado~=5.1.0; python_version >= \"3.0\", but you have tornado 6.1 which is incompatible.\u001b[0m\n",
            "Successfully installed APScheduler-3.6.3 cachetools-4.2.2 python-telegram-bot-13.11 tornado-6.1\n"
          ]
        },
        {
          "output_type": "display_data",
          "data": {
            "application/vnd.colab-display-data+json": {
              "pip_warning": {
                "packages": [
                  "tornado"
                ]
              }
            }
          },
          "metadata": {}
        }
      ],
      "source": [
        "pip install python-telegram-bot"
      ]
    },
    {
      "cell_type": "code",
      "source": [
        "from telegram import *\n",
        "from telegram.ext import *\n",
        "from telegram.update import Update\n",
        "from telegram.ext.callbackcontext import CallbackContext\n",
        "from telegram.ext.commandhandler import CommandHandler\n",
        "from telegram.ext.messagehandler import MessageHandler\n",
        "from telegram.ext.filters import Filters\n"
      ],
      "metadata": {
        "id": "Z9rZZdMcWO5f"
      },
      "execution_count": 4,
      "outputs": []
    },
    {
      "cell_type": "code",
      "source": [
        "bot = Bot(\"5121210669:AAFSyAZrcqUAR2usqVfFvXAWBfHFuEBwe9g\")\n",
        "\n",
        "print(bot.get_me())\n"
      ],
      "metadata": {
        "colab": {
          "base_uri": "https://localhost:8080/"
        },
        "id": "jZQOba_lW6QS",
        "outputId": "139521e7-b166-47ab-e0fd-e52595376891"
      },
      "execution_count": 16,
      "outputs": [
        {
          "output_type": "stream",
          "name": "stdout",
          "text": [
            "{'first_name': 'InfoCenter', 'can_join_groups': True, 'supports_inline_queries': False, 'is_bot': True, 'id': 5121210669, 'can_read_all_group_messages': False, 'username': 'InfoDsBot'}\n"
          ]
        }
      ]
    },
    {
      "cell_type": "code",
      "source": [
        "updater=Updater(\"5121210669:AAFSyAZrcqUAR2usqVfFvXAWBfHFuEBwe9g\",use_context=True)\n"
      ],
      "metadata": {
        "id": "Am17PidMHGyn"
      },
      "execution_count": 17,
      "outputs": []
    },
    {
      "cell_type": "code",
      "source": [
        "\n",
        "def start(update: Update, context: CallbackContext):\n",
        "\tupdate.message.reply_text(\"Hello Memeber Welcome to Vihar_Bot\")\n",
        "\n",
        "\n",
        "def help(update: Update, context: CallbackContext):\n",
        "\tupdate.message.reply_text(\"\"\"Available Commands :-\n",
        "\t/DataSciencetistJobs in Naukri - To get the list\n",
        "\t/DataScienctistJobs in  Glassdoor- To get the list from Glassdoor\n",
        "\t/DataScienctistJobs in  LinkedInd- - To get list from LinkedIn URL\"\"\")\n",
        "\n",
        "\n",
        "#def gmail_url(update: Update, context: CallbackContext):\n",
        "#\tupdate.message.reply_text(\n",
        "#\t\t\"Your gmail link here (I am not\\\n",
        "#\t\tgiving mine one for security reasons)\")\n",
        "\n",
        "\n",
        "def Naukri_url(update: Update, context: CallbackContext):\n",
        "\tupdate.message.reply_text(\"Naukri_URL => https://www.naukri.com/data-scientist-jobs-in-india\")\n",
        "\n",
        "\n",
        "def linkedIn_url(update: Update, context: CallbackContext):\n",
        "\tupdate.message.reply_text(\n",
        "\t\t\"LinkedIn URL => https://www.linkedin.com/jobs/search/?keywords=data%20scientist/\")\n",
        "\n",
        "\n",
        "def Glassdoor_url(update: Update, context: CallbackContext):\n",
        "\tupdate.message.reply_text(\n",
        "\t\t\"GLassdoor URL => https://www.glassdoor.co.in/Job/india-data-scientist-jobs-SRCH_IL.0,5_IN115_KO6,20.htm/\")\n",
        "\n",
        "\n",
        "def unknown(update: Update, context: CallbackContext):\n",
        "\tupdate.message.reply_text(\n",
        "\t\t\"Sorry '%s' is not a valid command\" % update.message.text)\n",
        "\n",
        "updater.dispatcher.add_handler(CommandHandler('start', start))\n",
        "updater.dispatcher.add_handler(CommandHandler('help', help))\n",
        "updater.dispatcher.add_handler(CommandHandler('Naukri', Naukri_url))\n",
        "updater.dispatcher.add_handler(CommandHandler('linkedin', linkedIn_url))\n",
        "updater.dispatcher.add_handler(CommandHandler('Glassdoor', Glassdoor_url))\n",
        "#updater.dispatcher.add_handler(CommandHandler('gmail', gmail_url))\n",
        "updater.dispatcher.add_handler(MessageHandler(Filters.text, unknown))\n",
        "#updater.dispatcher.add_handler(MessageHandler(Filters.command, unknown)) # Filters out unknown commands\n",
        "\n"
      ],
      "metadata": {
        "id": "OOsJymr2OjN3"
      },
      "execution_count": 19,
      "outputs": []
    },
    {
      "cell_type": "code",
      "source": [
        "updater.start_polling()"
      ],
      "metadata": {
        "id": "TlSjWSQ1cOn4",
        "colab": {
          "base_uri": "https://localhost:8080/"
        },
        "outputId": "8ff07391-ef3c-42ee-f6fb-d71a64c23261"
      },
      "execution_count": 20,
      "outputs": [
        {
          "output_type": "execute_result",
          "data": {
            "text/plain": [
              "<queue.Queue at 0x7f6a92641b10>"
            ]
          },
          "metadata": {},
          "execution_count": 20
        }
      ]
    },
    {
      "cell_type": "code",
      "source": [
        ""
      ],
      "metadata": {
        "id": "gOHH77JHJCsc"
      },
      "execution_count": null,
      "outputs": []
    }
  ]
}